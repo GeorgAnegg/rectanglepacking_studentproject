{
 "cells": [
  {
   "cell_type": "markdown",
   "metadata": {},
   "source": [
    "change this the location of your local git clone"
   ]
  },
  {
   "cell_type": "code",
   "execution_count": 1,
   "metadata": {},
   "outputs": [
    {
     "data": {
      "text/plain": [
       "\u001b[36mgitHome\u001b[39m: \u001b[32mString\u001b[39m = \u001b[32m\"/u/ganegg/Documents/RectanglePacking/rectanglepacking/\"\u001b[39m"
      ]
     },
     "execution_count": 1,
     "metadata": {},
     "output_type": "execute_result"
    }
   ],
   "source": [
    "val gitHome = \"/u/ganegg/Documents/RectanglePacking/rectanglepacking/\""
   ]
  },
  {
   "cell_type": "markdown",
   "metadata": {},
   "source": [
    "running 'assembly' in the sbt shell will create the file '/main-assembly-0.1.0-SNAPSHOT.jar'\n",
    "(\n",
    "this requires a file assembly.sbt (or plugins.sbt) in target/ with the content\n",
    "addSbtPlugin(\"com.eed3si9n\" % \"sbt-assembly\" % \"0.14.9\")\n",
    ")"
   ]
  },
  {
   "cell_type": "code",
   "execution_count": 2,
   "metadata": {},
   "outputs": [
    {
     "data": {
      "text/plain": [
       "\u001b[36mfatJarPath\u001b[39m: \u001b[32mos\u001b[39m.\u001b[32mPath\u001b[39m = root/\u001b[32m\"u\"\u001b[39m/\u001b[32m'ganegg\u001b[39m/\u001b[32m'Documents\u001b[39m/\u001b[32m'RectanglePacking\u001b[39m/\u001b[32m'rectanglepacking\u001b[39m/\u001b[32m'code\u001b[39m/\u001b[32m'target\u001b[39m/\u001b[32m\"scala-2.12\"\u001b[39m/\u001b[32m\"main-assembly-0.1.0-SNAPSHOT.jar\"\u001b[39m"
      ]
     },
     "execution_count": 2,
     "metadata": {},
     "output_type": "execute_result"
    }
   ],
   "source": [
    "val fatJarPath = os.Path(gitHome + \"code/target/scala-2.12/main-assembly-0.1.0-SNAPSHOT.jar\")\n",
    "interp.load.cp(fatJarPath)"
   ]
  },
  {
   "cell_type": "markdown",
   "metadata": {},
   "source": [
    "import the required packages and classes"
   ]
  },
  {
   "cell_type": "code",
   "execution_count": 3,
   "metadata": {},
   "outputs": [
    {
     "data": {
      "text/plain": [
       "\u001b[32mimport \u001b[39m\u001b[36mch.ethz.math.ifor.rectanglePacking._\u001b[39m"
      ]
     },
     "execution_count": 3,
     "metadata": {},
     "output_type": "execute_result"
    }
   ],
   "source": [
    "import ch.ethz.math.ifor.rectanglePacking._"
   ]
  },
  {
   "cell_type": "code",
   "execution_count": null,
   "metadata": {},
   "outputs": [],
   "source": []
  }
 ],
 "metadata": {
  "kernelspec": {
   "display_name": "Scala",
   "language": "scala",
   "name": "scala"
  },
  "language_info": {
   "codemirror_mode": "text/x-scala",
   "file_extension": ".scala",
   "mimetype": "text/x-scala",
   "name": "scala",
   "nbconvert_exporter": "script",
   "version": "2.12.8"
  }
 },
 "nbformat": 4,
 "nbformat_minor": 2
}
